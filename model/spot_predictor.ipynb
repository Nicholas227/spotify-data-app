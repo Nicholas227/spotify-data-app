{
  "nbformat": 4,
  "nbformat_minor": 0,
  "metadata": {
    "colab": {
      "name": "spot_predictor.ipynb",
      "provenance": [],
      "collapsed_sections": []
    },
    "kernelspec": {
      "name": "python3",
      "display_name": "Python 3"
    }
  },
  "cells": [
    {
      "cell_type": "code",
      "metadata": {
        "id": "aw3gQJujV7Wd",
        "colab_type": "code",
        "colab": {}
      },
      "source": [
        ""
      ],
      "execution_count": 0,
      "outputs": []
    },
    {
      "cell_type": "markdown",
      "metadata": {
        "id": "xxgpSr6EWEoo",
        "colab_type": "text"
      },
      "source": [
        "Personality Classifications\n",
        "\n",
        "SIMPING\n",
        "\n",
        "Openness to experience (inventive/curious vs. consistent/cautious)\n",
        "\n",
        "Conscientiousness (efficient/organized vs. easy-going/careless)\n",
        "\n",
        "Extraversion (outgoing/energetic vs. solitary/reserved)\n",
        "\n",
        "Agreeableness (friendly/compassionate vs. challenging/detached)\n",
        "\n",
        "Neuroticism (sensitive/nervous vs. secure/confident)\n",
        "\n",
        "Characteristics of Songs We Will Be Looking At\n",
        "\n",
        "Tempo\n",
        "\n",
        "Danceability\n",
        "\n",
        "Energy \n",
        "\n",
        "Instrumentalness\n",
        "\n"
      ]
    },
    {
      "cell_type": "code",
      "metadata": {
        "id": "LHdSNLvUVT9V",
        "colab_type": "code",
        "colab": {}
      },
      "source": [
        "%tensorflow_version 2.x\n",
        "\n",
        "from __future__ import absolute_import, division, print_function, unicode_literals\n",
        "\n",
        "from google.colab import files\n",
        "import tensorflow as tf\n",
        "import pandas as pd\n",
        "import io"
      ],
      "execution_count": 0,
      "outputs": []
    },
    {
      "cell_type": "code",
      "metadata": {
        "id": "c8-Rekf0YC1D",
        "colab_type": "code",
        "colab": {}
      },
      "source": [
        "col_names = ['Danceability', 'Tempo', 'Energy', 'Instrumentalness', 'Label']\n",
        "personality_types = ['O','C', 'E', 'A', 'N']\n"
      ],
      "execution_count": 0,
      "outputs": []
    },
    {
      "cell_type": "code",
      "metadata": {
        "id": "XlRY-OzoWwRm",
        "colab_type": "code",
        "outputId": "3081bc0d-f4b5-40e1-e27e-4ce734732563",
        "colab": {
          "resources": {
            "http://localhost:8080/nbextensions/google.colab/files.js": {
              "data": "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",
              "ok": true,
              "headers": [
                [
                  "content-type",
                  "application/javascript"
                ]
              ],
              "status": 200,
              "status_text": ""
            }
          },
          "base_uri": "https://localhost:8080/",
          "height": 131
        }
      },
      "source": [
        "# train_path = tf.keras.utils.get_file(\n",
        "#     \"iris_training.csv\", \"https://storage.googleapis.com/download.tensorflow.org/data/iris_training.csv\")\n",
        "# test_path = tf.keras.utils.get_file(\n",
        "#     \"iris_test.csv\", \"https://storage.googleapis.com/download.tensorflow.org/data/iris_test.csv\")\n",
        "train_path = files.upload()\n",
        "test_path  = files.upload()\n",
        "\n",
        "train = pd.read_csv(io.StringIO(train_path['tracks.csv'].decode('utf-8')))\n",
        "test = pd.read_csv(io.StringIO(test_path['test.csv'].decode('utf-8')))"
      ],
      "execution_count": 28,
      "outputs": [
        {
          "output_type": "display_data",
          "data": {
            "text/html": [
              "\n",
              "     <input type=\"file\" id=\"files-999532dc-0acf-48f0-a7bc-0051fcfd066a\" name=\"files[]\" multiple disabled />\n",
              "     <output id=\"result-999532dc-0acf-48f0-a7bc-0051fcfd066a\">\n",
              "      Upload widget is only available when the cell has been executed in the\n",
              "      current browser session. Please rerun this cell to enable.\n",
              "      </output>\n",
              "      <script src=\"/nbextensions/google.colab/files.js\"></script> "
            ],
            "text/plain": [
              "<IPython.core.display.HTML object>"
            ]
          },
          "metadata": {
            "tags": []
          }
        },
        {
          "output_type": "stream",
          "text": [
            "Saving tracks.csv to tracks (6).csv\n"
          ],
          "name": "stdout"
        },
        {
          "output_type": "display_data",
          "data": {
            "text/html": [
              "\n",
              "     <input type=\"file\" id=\"files-03673dbe-3059-4b46-8d06-ef57d4e7d743\" name=\"files[]\" multiple disabled />\n",
              "     <output id=\"result-03673dbe-3059-4b46-8d06-ef57d4e7d743\">\n",
              "      Upload widget is only available when the cell has been executed in the\n",
              "      current browser session. Please rerun this cell to enable.\n",
              "      </output>\n",
              "      <script src=\"/nbextensions/google.colab/files.js\"></script> "
            ],
            "text/plain": [
              "<IPython.core.display.HTML object>"
            ]
          },
          "metadata": {
            "tags": []
          }
        },
        {
          "output_type": "stream",
          "text": [
            "Saving test.csv to test (5).csv\n"
          ],
          "name": "stdout"
        }
      ]
    },
    {
      "cell_type": "code",
      "metadata": {
        "id": "Uk_9qrz6Wqi3",
        "colab_type": "code",
        "outputId": "83d1ff9d-f745-4c89-cb07-30521f6203fb",
        "colab": {
          "base_uri": "https://localhost:8080/",
          "height": 204
        }
      },
      "source": [
        "training_label = train.pop('Label')\n",
        "test_label = test.pop('Label')\n",
        "train.head()"
      ],
      "execution_count": 29,
      "outputs": [
        {
          "output_type": "execute_result",
          "data": {
            "text/html": [
              "<div>\n",
              "<style scoped>\n",
              "    .dataframe tbody tr th:only-of-type {\n",
              "        vertical-align: middle;\n",
              "    }\n",
              "\n",
              "    .dataframe tbody tr th {\n",
              "        vertical-align: top;\n",
              "    }\n",
              "\n",
              "    .dataframe thead th {\n",
              "        text-align: right;\n",
              "    }\n",
              "</style>\n",
              "<table border=\"1\" class=\"dataframe\">\n",
              "  <thead>\n",
              "    <tr style=\"text-align: right;\">\n",
              "      <th></th>\n",
              "      <th>Danceability</th>\n",
              "      <th>Tempo</th>\n",
              "      <th>Instrumentalness</th>\n",
              "      <th>Energy</th>\n",
              "    </tr>\n",
              "  </thead>\n",
              "  <tbody>\n",
              "    <tr>\n",
              "      <th>0</th>\n",
              "      <td>0.521</td>\n",
              "      <td>129.900</td>\n",
              "      <td>0.001240</td>\n",
              "      <td>0.453</td>\n",
              "    </tr>\n",
              "    <tr>\n",
              "      <th>1</th>\n",
              "      <td>0.515</td>\n",
              "      <td>88.964</td>\n",
              "      <td>0.005980</td>\n",
              "      <td>0.479</td>\n",
              "    </tr>\n",
              "    <tr>\n",
              "      <th>2</th>\n",
              "      <td>0.315</td>\n",
              "      <td>88.045</td>\n",
              "      <td>0.000211</td>\n",
              "      <td>0.220</td>\n",
              "    </tr>\n",
              "    <tr>\n",
              "      <th>3</th>\n",
              "      <td>0.732</td>\n",
              "      <td>102.087</td>\n",
              "      <td>0.000000</td>\n",
              "      <td>0.243</td>\n",
              "    </tr>\n",
              "    <tr>\n",
              "      <th>4</th>\n",
              "      <td>0.498</td>\n",
              "      <td>118.917</td>\n",
              "      <td>0.000000</td>\n",
              "      <td>0.235</td>\n",
              "    </tr>\n",
              "  </tbody>\n",
              "</table>\n",
              "</div>"
            ],
            "text/plain": [
              "   Danceability    Tempo  Instrumentalness  Energy\n",
              "0         0.521  129.900          0.001240   0.453\n",
              "1         0.515   88.964          0.005980   0.479\n",
              "2         0.315   88.045          0.000211   0.220\n",
              "3         0.732  102.087          0.000000   0.243\n",
              "4         0.498  118.917          0.000000   0.235"
            ]
          },
          "metadata": {
            "tags": []
          },
          "execution_count": 29
        }
      ]
    },
    {
      "cell_type": "code",
      "metadata": {
        "id": "dhwSWtb2XSGS",
        "colab_type": "code",
        "colab": {}
      },
      "source": [
        "#define input function for model\n",
        "def input_fn(features, labels, training=True, batch_size=256):\n",
        "    #Create dataset\n",
        "    dataset = tf.data.Dataset.from_tensor_slices((dict(features), labels))\n",
        "\n",
        "    if training:\n",
        "        dataset = dataset.shuffle(1000).repeat()\n",
        "    return dataset.batch(batch_size)\n"
      ],
      "execution_count": 0,
      "outputs": []
    },
    {
      "cell_type": "code",
      "metadata": {
        "id": "HWCNEIKMYANW",
        "colab_type": "code",
        "outputId": "e30c9a9b-3212-4205-8483-412e4c33bde4",
        "colab": {
          "base_uri": "https://localhost:8080/",
          "height": 54
        }
      },
      "source": [
        "#Feature columns\n",
        "feat_cols = []\n",
        "for k in train.keys():\n",
        "    feat_cols.append(tf.feature_column.numeric_column(key=k))\n",
        "print(feat_cols)\n"
      ],
      "execution_count": 31,
      "outputs": [
        {
          "output_type": "stream",
          "text": [
            "[NumericColumn(key='Danceability', shape=(1,), default_value=None, dtype=tf.float32, normalizer_fn=None), NumericColumn(key='Tempo', shape=(1,), default_value=None, dtype=tf.float32, normalizer_fn=None), NumericColumn(key='Instrumentalness', shape=(1,), default_value=None, dtype=tf.float32, normalizer_fn=None), NumericColumn(key='Energy', shape=(1,), default_value=None, dtype=tf.float32, normalizer_fn=None)]\n"
          ],
          "name": "stdout"
        }
      ]
    },
    {
      "cell_type": "markdown",
      "metadata": {
        "id": "zFYVrJHEYmpi",
        "colab_type": "text"
      },
      "source": [
        "At this point we can choose from 2 different classifiers. A DNN(Deep Neural Network) \n"
      ]
    },
    {
      "cell_type": "code",
      "metadata": {
        "id": "f2n7eQQQYkq2",
        "colab_type": "code",
        "outputId": "fb1acfac-951f-46fa-b716-66e256ff6c62",
        "colab": {
          "base_uri": "https://localhost:8080/",
          "height": 190
        }
      },
      "source": [
        "#DNN below\n",
        "classifier = tf.estimator.DNNClassifier(\n",
        "    hidden_units=[30,10],\n",
        "    feature_columns=feat_cols,\n",
        "    n_classes=5,\n",
        ")\n",
        "#n_classes must be equal to 5 for personality classifier\n"
      ],
      "execution_count": 32,
      "outputs": [
        {
          "output_type": "stream",
          "text": [
            "INFO:tensorflow:Using default config.\n",
            "WARNING:tensorflow:Using temporary folder as model directory: /tmp/tmp49arqb7o\n",
            "INFO:tensorflow:Using config: {'_model_dir': '/tmp/tmp49arqb7o', '_tf_random_seed': None, '_save_summary_steps': 100, '_save_checkpoints_steps': None, '_save_checkpoints_secs': 600, '_session_config': allow_soft_placement: true\n",
            "graph_options {\n",
            "  rewrite_options {\n",
            "    meta_optimizer_iterations: ONE\n",
            "  }\n",
            "}\n",
            ", '_keep_checkpoint_max': 5, '_keep_checkpoint_every_n_hours': 10000, '_log_step_count_steps': 100, '_train_distribute': None, '_device_fn': None, '_protocol': None, '_eval_distribute': None, '_experimental_distribute': None, '_experimental_max_worker_delay_secs': None, '_session_creation_timeout_secs': 7200, '_service': None, '_cluster_spec': ClusterSpec({}), '_task_type': 'worker', '_task_id': 0, '_global_id_in_cluster': 0, '_master': '', '_evaluation_master': '', '_is_chief': True, '_num_ps_replicas': 0, '_num_worker_replicas': 1}\n"
          ],
          "name": "stdout"
        }
      ]
    },
    {
      "cell_type": "code",
      "metadata": {
        "id": "XNyvsHx4Z6Vl",
        "colab_type": "code",
        "outputId": "6fcfe02d-462a-4fae-da95-b3fca3f3c626",
        "colab": {
          "base_uri": "https://localhost:8080/",
          "height": 1000
        }
      },
      "source": [
        "classifier.train(input_fn=lambda: input_fn(train,training_label, training=True), steps= 5000)\n"
      ],
      "execution_count": 33,
      "outputs": [
        {
          "output_type": "stream",
          "text": [
            "INFO:tensorflow:Calling model_fn.\n",
            "WARNING:tensorflow:Layer dnn is casting an input tensor from dtype float64 to the layer's dtype of float32, which is new behavior in TensorFlow 2.  The layer has dtype float32 because it's dtype defaults to floatx.\n",
            "\n",
            "If you intended to run this layer in float32, you can safely ignore this warning. If in doubt, this warning is likely only an issue if you are porting a TensorFlow 1.X model to TensorFlow 2.\n",
            "\n",
            "To change all layers to have dtype float64 by default, call `tf.keras.backend.set_floatx('float64')`. To change just this layer, pass dtype='float64' to the layer constructor. If you are the author of this layer, you can disable autocasting by passing autocast=False to the base Layer constructor.\n",
            "\n",
            "INFO:tensorflow:Done calling model_fn.\n",
            "INFO:tensorflow:Create CheckpointSaverHook.\n",
            "INFO:tensorflow:Graph was finalized.\n",
            "INFO:tensorflow:Running local_init_op.\n",
            "INFO:tensorflow:Done running local_init_op.\n",
            "INFO:tensorflow:Calling checkpoint listeners before saving checkpoint 0...\n",
            "INFO:tensorflow:Saving checkpoints for 0 into /tmp/tmp49arqb7o/model.ckpt.\n",
            "INFO:tensorflow:Calling checkpoint listeners after saving checkpoint 0...\n",
            "INFO:tensorflow:loss = 11.50783, step = 0\n",
            "INFO:tensorflow:global_step/sec: 481.772\n",
            "INFO:tensorflow:loss = 4.7415743, step = 100 (0.212 sec)\n",
            "INFO:tensorflow:global_step/sec: 608.443\n",
            "INFO:tensorflow:loss = 4.2658463, step = 200 (0.164 sec)\n",
            "INFO:tensorflow:global_step/sec: 628.19\n",
            "INFO:tensorflow:loss = 3.2862506, step = 300 (0.156 sec)\n",
            "INFO:tensorflow:global_step/sec: 593.982\n",
            "INFO:tensorflow:loss = 2.9203327, step = 400 (0.168 sec)\n",
            "INFO:tensorflow:global_step/sec: 616.867\n",
            "INFO:tensorflow:loss = 2.4139, step = 500 (0.165 sec)\n",
            "INFO:tensorflow:global_step/sec: 601.343\n",
            "INFO:tensorflow:loss = 1.9694057, step = 600 (0.163 sec)\n",
            "INFO:tensorflow:global_step/sec: 628.229\n",
            "INFO:tensorflow:loss = 1.6106918, step = 700 (0.160 sec)\n",
            "INFO:tensorflow:global_step/sec: 616.133\n",
            "INFO:tensorflow:loss = 1.391253, step = 800 (0.161 sec)\n",
            "INFO:tensorflow:global_step/sec: 658.848\n",
            "INFO:tensorflow:loss = 1.2903854, step = 900 (0.154 sec)\n",
            "INFO:tensorflow:global_step/sec: 626.971\n",
            "INFO:tensorflow:loss = 1.2184579, step = 1000 (0.157 sec)\n",
            "INFO:tensorflow:global_step/sec: 627.901\n",
            "INFO:tensorflow:loss = 1.1555669, step = 1100 (0.163 sec)\n",
            "INFO:tensorflow:global_step/sec: 592.58\n",
            "INFO:tensorflow:loss = 1.1125973, step = 1200 (0.166 sec)\n",
            "INFO:tensorflow:global_step/sec: 551.985\n",
            "INFO:tensorflow:loss = 1.0997818, step = 1300 (0.182 sec)\n",
            "INFO:tensorflow:global_step/sec: 602.645\n",
            "INFO:tensorflow:loss = 1.0806321, step = 1400 (0.165 sec)\n",
            "INFO:tensorflow:global_step/sec: 578.77\n",
            "INFO:tensorflow:loss = 1.0758084, step = 1500 (0.176 sec)\n",
            "INFO:tensorflow:global_step/sec: 594.701\n",
            "INFO:tensorflow:loss = 1.0748291, step = 1600 (0.168 sec)\n",
            "INFO:tensorflow:global_step/sec: 614.634\n",
            "INFO:tensorflow:loss = 1.0677669, step = 1700 (0.159 sec)\n",
            "INFO:tensorflow:global_step/sec: 569.838\n",
            "INFO:tensorflow:loss = 1.0604777, step = 1800 (0.179 sec)\n",
            "INFO:tensorflow:global_step/sec: 573.502\n",
            "INFO:tensorflow:loss = 1.0623106, step = 1900 (0.175 sec)\n",
            "INFO:tensorflow:global_step/sec: 614.496\n",
            "INFO:tensorflow:loss = 1.0526059, step = 2000 (0.160 sec)\n",
            "INFO:tensorflow:global_step/sec: 615.556\n",
            "INFO:tensorflow:loss = 1.0506876, step = 2100 (0.162 sec)\n",
            "INFO:tensorflow:global_step/sec: 541.756\n",
            "INFO:tensorflow:loss = 1.0481565, step = 2200 (0.187 sec)\n",
            "WARNING:tensorflow:It seems that global step (tf.train.get_global_step) has not been increased. Current value (could be stable): 2202 vs previous value: 2202. You could increase the global step by passing tf.train.get_global_step() to Optimizer.apply_gradients or Optimizer.minimize.\n",
            "INFO:tensorflow:global_step/sec: 589.052\n",
            "INFO:tensorflow:loss = 1.0408981, step = 2300 (0.168 sec)\n",
            "INFO:tensorflow:global_step/sec: 629.669\n",
            "INFO:tensorflow:loss = 1.04414, step = 2400 (0.158 sec)\n",
            "INFO:tensorflow:global_step/sec: 564.651\n",
            "INFO:tensorflow:loss = 1.0381367, step = 2500 (0.176 sec)\n",
            "INFO:tensorflow:global_step/sec: 610.684\n",
            "INFO:tensorflow:loss = 1.0401676, step = 2600 (0.167 sec)\n",
            "INFO:tensorflow:global_step/sec: 606.144\n",
            "INFO:tensorflow:loss = 1.0359759, step = 2700 (0.166 sec)\n",
            "INFO:tensorflow:global_step/sec: 619.968\n",
            "INFO:tensorflow:loss = 1.0369408, step = 2800 (0.161 sec)\n",
            "INFO:tensorflow:global_step/sec: 630.305\n",
            "INFO:tensorflow:loss = 1.0304124, step = 2900 (0.156 sec)\n",
            "INFO:tensorflow:global_step/sec: 596.208\n",
            "INFO:tensorflow:loss = 1.0270423, step = 3000 (0.170 sec)\n",
            "INFO:tensorflow:global_step/sec: 534.354\n",
            "INFO:tensorflow:loss = 1.0270028, step = 3100 (0.186 sec)\n",
            "INFO:tensorflow:global_step/sec: 606.547\n",
            "INFO:tensorflow:loss = 1.0338075, step = 3200 (0.163 sec)\n",
            "INFO:tensorflow:global_step/sec: 617.18\n",
            "INFO:tensorflow:loss = 1.0285386, step = 3300 (0.162 sec)\n",
            "INFO:tensorflow:global_step/sec: 602.624\n",
            "INFO:tensorflow:loss = 1.0251422, step = 3400 (0.166 sec)\n",
            "INFO:tensorflow:global_step/sec: 535.471\n",
            "INFO:tensorflow:loss = 1.0233495, step = 3500 (0.187 sec)\n",
            "INFO:tensorflow:global_step/sec: 591.457\n",
            "INFO:tensorflow:loss = 1.0221303, step = 3600 (0.171 sec)\n",
            "INFO:tensorflow:global_step/sec: 569.874\n",
            "INFO:tensorflow:loss = 1.0181879, step = 3700 (0.174 sec)\n",
            "INFO:tensorflow:global_step/sec: 586.43\n",
            "INFO:tensorflow:loss = 1.0161289, step = 3800 (0.173 sec)\n",
            "INFO:tensorflow:global_step/sec: 620.124\n",
            "INFO:tensorflow:loss = 1.0149924, step = 3900 (0.161 sec)\n",
            "INFO:tensorflow:global_step/sec: 626.55\n",
            "INFO:tensorflow:loss = 1.0140313, step = 4000 (0.157 sec)\n",
            "INFO:tensorflow:global_step/sec: 546.91\n",
            "INFO:tensorflow:loss = 1.0154614, step = 4100 (0.182 sec)\n",
            "INFO:tensorflow:global_step/sec: 608.284\n",
            "INFO:tensorflow:loss = 1.0170088, step = 4200 (0.167 sec)\n",
            "INFO:tensorflow:global_step/sec: 588.568\n",
            "INFO:tensorflow:loss = 1.0164717, step = 4300 (0.169 sec)\n",
            "INFO:tensorflow:global_step/sec: 619.085\n",
            "INFO:tensorflow:loss = 1.0167625, step = 4400 (0.160 sec)\n",
            "INFO:tensorflow:global_step/sec: 577.051\n",
            "INFO:tensorflow:loss = 1.0105613, step = 4500 (0.176 sec)\n",
            "INFO:tensorflow:global_step/sec: 573.024\n",
            "INFO:tensorflow:loss = 1.0142162, step = 4600 (0.171 sec)\n",
            "INFO:tensorflow:global_step/sec: 619.185\n",
            "INFO:tensorflow:loss = 1.0092463, step = 4700 (0.164 sec)\n",
            "INFO:tensorflow:global_step/sec: 610.781\n",
            "INFO:tensorflow:loss = 1.0058665, step = 4800 (0.163 sec)\n",
            "INFO:tensorflow:global_step/sec: 598.899\n",
            "INFO:tensorflow:loss = 1.0054933, step = 4900 (0.165 sec)\n",
            "INFO:tensorflow:Calling checkpoint listeners before saving checkpoint 5000...\n",
            "INFO:tensorflow:Saving checkpoints for 5000 into /tmp/tmp49arqb7o/model.ckpt.\n",
            "INFO:tensorflow:Calling checkpoint listeners after saving checkpoint 5000...\n",
            "INFO:tensorflow:Loss for final step: 1.0054975.\n"
          ],
          "name": "stdout"
        },
        {
          "output_type": "execute_result",
          "data": {
            "text/plain": [
              "<tensorflow_estimator.python.estimator.canned.dnn.DNNClassifierV2 at 0x7fd5d9f996a0>"
            ]
          },
          "metadata": {
            "tags": []
          },
          "execution_count": 33
        }
      ]
    },
    {
      "cell_type": "code",
      "metadata": {
        "id": "pEyyoVYoaqjn",
        "colab_type": "code",
        "outputId": "4569c988-dd58-4613-9ab9-3635e4e47279",
        "colab": {
          "base_uri": "https://localhost:8080/",
          "height": 357
        }
      },
      "source": [
        "eval_result = classifier.evaluate(input_fn = lambda: input_fn(test,test_label, training=False))\n",
        "\n",
        "print('\\n Test accuracy : {accuracy:0.3f}\\n'.format(**eval_result))\n",
        "#Test accuract : 0.967 for testing data"
      ],
      "execution_count": 34,
      "outputs": [
        {
          "output_type": "stream",
          "text": [
            "INFO:tensorflow:Calling model_fn.\n",
            "WARNING:tensorflow:Layer dnn is casting an input tensor from dtype float64 to the layer's dtype of float32, which is new behavior in TensorFlow 2.  The layer has dtype float32 because it's dtype defaults to floatx.\n",
            "\n",
            "If you intended to run this layer in float32, you can safely ignore this warning. If in doubt, this warning is likely only an issue if you are porting a TensorFlow 1.X model to TensorFlow 2.\n",
            "\n",
            "To change all layers to have dtype float64 by default, call `tf.keras.backend.set_floatx('float64')`. To change just this layer, pass dtype='float64' to the layer constructor. If you are the author of this layer, you can disable autocasting by passing autocast=False to the base Layer constructor.\n",
            "\n",
            "INFO:tensorflow:Done calling model_fn.\n",
            "INFO:tensorflow:Starting evaluation at 2020-03-27T23:32:05Z\n",
            "INFO:tensorflow:Graph was finalized.\n",
            "INFO:tensorflow:Restoring parameters from /tmp/tmp49arqb7o/model.ckpt-5000\n",
            "INFO:tensorflow:Running local_init_op.\n",
            "INFO:tensorflow:Done running local_init_op.\n",
            "INFO:tensorflow:Inference Time : 0.27416s\n",
            "INFO:tensorflow:Finished evaluation at 2020-03-27-23:32:05\n",
            "INFO:tensorflow:Saving dict for global step 5000: accuracy = 0.0, average_loss = 7.6396704, global_step = 5000, loss = 7.6396704\n",
            "INFO:tensorflow:Saving 'checkpoint_path' summary for global step 5000: /tmp/tmp49arqb7o/model.ckpt-5000\n",
            "\n",
            " Test accuracy : 0.000\n",
            "\n"
          ],
          "name": "stdout"
        }
      ]
    },
    {
      "cell_type": "code",
      "metadata": {
        "id": "KLf_ZDRTbERA",
        "colab_type": "code",
        "outputId": "0e247176-7202-4bf2-de41-3d906230b0b3",
        "colab": {
          "base_uri": "https://localhost:8080/",
          "height": 248
        }
      },
      "source": [
        "\n"
      ],
      "execution_count": 0,
      "outputs": [
        {
          "output_type": "stream",
          "text": [
            "ERROR! Session/line number was not unique in database. History logging moved to new session 59\n"
          ],
          "name": "stdout"
        },
        {
          "output_type": "error",
          "ename": "NameError",
          "evalue": "ignored",
          "traceback": [
            "\u001b[0;31m---------------------------------------------------------------------------\u001b[0m",
            "\u001b[0;31mNameError\u001b[0m                                 Traceback (most recent call last)",
            "\u001b[0;32m<ipython-input-43-d6ed5cea097d>\u001b[0m in \u001b[0;36m<module>\u001b[0;34m()\u001b[0m\n\u001b[1;32m      4\u001b[0m \u001b[0mfeatures\u001b[0m \u001b[0;34m=\u001b[0m \u001b[0;34m[\u001b[0m\u001b[0;34m'Danceability'\u001b[0m\u001b[0;34m,\u001b[0m \u001b[0;34m'Tempo'\u001b[0m\u001b[0;34m,\u001b[0m \u001b[0;34m'Energy'\u001b[0m\u001b[0;34m,\u001b[0m \u001b[0;34m'Instrumentalness'\u001b[0m\u001b[0;34m]\u001b[0m\u001b[0;34m\u001b[0m\u001b[0;34m\u001b[0m\u001b[0m\n\u001b[1;32m      5\u001b[0m \u001b[0mpredict\u001b[0m \u001b[0;34m=\u001b[0m \u001b[0;34m{\u001b[0m\u001b[0;34m}\u001b[0m\u001b[0;34m\u001b[0m\u001b[0;34m\u001b[0m\u001b[0m\n\u001b[0;32m----> 6\u001b[0;31m \u001b[0;32mfor\u001b[0m \u001b[0mi\u001b[0m \u001b[0;32min\u001b[0m \u001b[0mrange\u001b[0m\u001b[0;34m(\u001b[0m\u001b[0;36m0\u001b[0m\u001b[0;34m,\u001b[0m \u001b[0mlen\u001b[0m\u001b[0;34m(\u001b[0m\u001b[0minput_data\u001b[0m\u001b[0;34m)\u001b[0m\u001b[0;34m)\u001b[0m\u001b[0;34m:\u001b[0m\u001b[0;34m\u001b[0m\u001b[0;34m\u001b[0m\u001b[0m\n\u001b[0m\u001b[1;32m      7\u001b[0m     \u001b[0mpredict\u001b[0m\u001b[0;34m[\u001b[0m\u001b[0mfeatures\u001b[0m\u001b[0;34m[\u001b[0m\u001b[0mi\u001b[0m\u001b[0;34m]\u001b[0m\u001b[0;34m]\u001b[0m \u001b[0;34m=\u001b[0m \u001b[0minput_data\u001b[0m\u001b[0;34m[\u001b[0m\u001b[0mi\u001b[0m\u001b[0;34m]\u001b[0m\u001b[0;34m\u001b[0m\u001b[0;34m\u001b[0m\u001b[0m\n\u001b[1;32m      8\u001b[0m \u001b[0;34m\u001b[0m\u001b[0m\n",
            "\u001b[0;31mNameError\u001b[0m: name 'input_data' is not defined"
          ]
        }
      ]
    }
  ]
}